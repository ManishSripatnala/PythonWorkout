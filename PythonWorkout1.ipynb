{
 "cells": [
  {
   "cell_type": "markdown",
   "metadata": {},
   "source": [
    "# 1.PRINT SUM OF ODD NUMBERS FROM 1 TO 100"
   ]
  },
  {
   "cell_type": "code",
   "execution_count": 2,
   "metadata": {},
   "outputs": [
    {
     "output_type": "stream",
     "name": "stdout",
     "text": [
      "2500\n"
     ]
    }
   ],
   "source": [
    "sum = 0\n",
    "\n",
    "for i in range(1,101):\n",
    "    if i%2 != 0:\n",
    "        sum += i\n",
    "        \n",
    "print(sum)"
   ]
  },
  {
   "cell_type": "markdown",
   "metadata": {},
   "source": [
    "# 2.CONCAT 3 STRINGS AND PRINT"
   ]
  },
  {
   "cell_type": "code",
   "execution_count": 3,
   "metadata": {},
   "outputs": [
    {
     "output_type": "stream",
     "name": "stdout",
     "text": [
      "\nHave a Good Day\n"
     ]
    }
   ],
   "source": [
    "string1 = input(\"ENTER STRING 1 : \")\n",
    "string2 = input(\"ENTER STRING 2 : \")\n",
    "string3 = input(\"ENTER STRING 3 : \")\n",
    "\n",
    "print('')\n",
    "print(string1 + ' ' + string2 + ' ' + string3)"
   ]
  },
  {
   "cell_type": "markdown",
   "metadata": {},
   "source": [
    "# 3.5 NUMBERS INPUT AND IF CONDITION"
   ]
  },
  {
   "cell_type": "code",
   "execution_count": 6,
   "metadata": {},
   "outputs": [
    {
     "name": "stdout",
     "output_type": "stream",
     "text": [
      "30\n",
      "30\n",
      "10\n",
      "12\n",
      "3\n",
      "good\n"
     ]
    }
   ],
   "source": [
    "sum = 0\n",
    "\n",
    "for i in range(5):\n",
    "    sum += int(input())\n",
    "    \n",
    "if sum > 75:\n",
    "    print('good')\n",
    "    \n",
    "elif 50 < sum < 75:\n",
    "    print('ok')\n",
    "\n",
    "else:\n",
    "    print('not ok')"
   ]
  },
  {
   "cell_type": "markdown",
   "metadata": {},
   "source": [
    "# 4.FIRST 10 CHARACTERS"
   ]
  },
  {
   "cell_type": "code",
   "execution_count": 9,
   "metadata": {},
   "outputs": [
    {
     "name": "stdout",
     "output_type": "stream",
     "text": [
      "Hello World! How are you?\n",
      "Hello World\n"
     ]
    }
   ],
   "source": [
    "s = input()\n",
    "\n",
    "s = s[:11]\n",
    "\n",
    "print(s)"
   ]
  },
  {
   "cell_type": "markdown",
   "metadata": {},
   "source": [
    "# 5.LAST 10 CHARACTERS"
   ]
  },
  {
   "cell_type": "code",
   "execution_count": 10,
   "metadata": {},
   "outputs": [
    {
     "name": "stdout",
     "output_type": "stream",
     "text": [
      "This is python! How are you\n",
      "ow are you\n"
     ]
    }
   ],
   "source": [
    "s = input()\n",
    "\n",
    "s = s[-10:]\n",
    "\n",
    "print(s)"
   ]
  },
  {
   "cell_type": "markdown",
   "metadata": {},
   "source": [
    "# I/O Handling"
   ]
  },
  {
   "cell_type": "markdown",
   "metadata": {},
   "source": [
    "# 1.READ A FILE AND PRINT THE CONTENTS"
   ]
  },
  {
   "cell_type": "code",
   "execution_count": 10,
   "metadata": {},
   "outputs": [
    {
     "name": "stdout",
     "output_type": "stream",
     "text": [
      "Hello, This is the first file I created.\n",
      "This is the second line in the file.\n",
      "\n"
     ]
    }
   ],
   "source": [
    "f = open('FirstFile.txt','r')\n",
    "print(f.read())\n",
    "f.close()"
   ]
  },
  {
   "cell_type": "markdown",
   "metadata": {},
   "source": [
    "# 2.COUNT NO.OF OCCURANCES OF A WORD IN A FILE"
   ]
  },
  {
   "cell_type": "code",
   "execution_count": 11,
   "metadata": {},
   "outputs": [
    {
     "name": "stdout",
     "output_type": "stream",
     "text": [
      "2\n"
     ]
    }
   ],
   "source": [
    "f = open('FirstFile.txt','r')\n",
    "data = f.read()\n",
    "print(data.count('This'))\n",
    "f.close()"
   ]
  },
  {
   "cell_type": "markdown",
   "metadata": {},
   "source": [
    "# 3.CREATE NEW FILE AND WRITE TEXT TO IT"
   ]
  },
  {
   "cell_type": "code",
   "execution_count": 16,
   "metadata": {},
   "outputs": [
    {
     "name": "stdout",
     "output_type": "stream",
     "text": [
      "Hello Python. \n",
      "Python is the best programming language.\n"
     ]
    }
   ],
   "source": [
    "f1 = open('SecondFile.txt','w+')\n",
    "f1.write('Hello Python. \\nPython is the best programming language.')\n",
    "f1.seek(0)\n",
    "print(f1.read())\n",
    "f1.close()"
   ]
  },
  {
   "cell_type": "markdown",
   "metadata": {},
   "source": [
    "# 4.PRINT ALL THE FILES IN A DIRECTORY"
   ]
  },
  {
   "cell_type": "code",
   "execution_count": 18,
   "metadata": {},
   "outputs": [
    {
     "name": "stdout",
     "output_type": "stream",
     "text": [
      "['.anaconda', '.android', '.conda', '.condarc', '.config', '.continuum', '.eclipse', '.emulator_console_auth_token', '.gitconfig', '.gradle', '.idlerc', '.ipynb_checkpoints', '.ipython', '.jupyter', '.keras', '.matplotlib', '.Origin', '.p2', '.packettracer', '.pylint.d', '.QtWebEngineProcess', '.spyder-py3', '.thumbnails', '.vscode', '3D Objects', 'AndroidStudioProjects', 'AppData', 'Application Data', 'BUJJI BABAI.ipynb', 'CHATBOT.ipynb', 'Cisco Packet Tracer 7.2', 'Cisco Packet Tracer 7.3.1', 'CODEVITA.ipynb', 'Contacts', 'Cookies', 'DATA STRUCTURES.ipynb', 'Documents', 'Downloads', 'Extracted.xlsx', 'Favorites', 'FINAL_PRACTICE.ipynb', 'FirstFile.TXT', 'GOOGLE CODE JAM PRACTICE.ipynb', 'HANGMAN.ipynb', 'INFYTQ FINAL ROUND.ipynb', 'INFYTQ.ipynb', 'IntelGraphicsProfiles', 'Links', 'Local Settings', 'MATPLOTLIB.ipynb', 'MicrosoftEdgeBackups', 'ML', 'ML Project.ipynb', 'Music', 'music.csv', 'My Documents', 'NetHood', 'NTUSER.DAT', 'ntuser.dat.LOG1', 'ntuser.dat.LOG2', 'NTUSER.DAT{f9e547d0-0477-11eb-9cff-9d02ee1ac36d}.TM.blf', 'NTUSER.DAT{f9e547d0-0477-11eb-9cff-9d02ee1ac36d}.TMContainer00000000000000000001.regtrans-ms', 'NTUSER.DAT{f9e547d0-0477-11eb-9cff-9d02ee1ac36d}.TMContainer00000000000000000002.regtrans-ms', 'ntuser.ini', 'NUMPY.ipynb', 'OCR_PROJECT.ipynb', 'OneDrive', 'opera autoupdate', 'PANDAS.ipynb', 'PANDAS_TUTORIAL(1).ipynb', 'PANDAS_TUTORIAL(2).ipynb', 'PANDAS_TUTORIAL(3).ipynb', 'people-example.csv', 'PLACEMENT TRAINING.ipynb', 'PRACTICE.ipynb', 'PrintHood', 'PROJECT-1.ipynb', 'pslog_20201106_152204.log', 'QUARANTINE.ipynb', 'Recent', 'Saved Games', 'Searches', 'SecondFile.txt', 'SendTo', 'Start Menu', 'TALENTIO PHASE-2.ipynb', 'Templates', 'TENSORFLOW.ipynb', 'TEST PYTHON.ipynb', 'TESTDOME ONLINE TEST.ipynb', 'Turi Getting Started with SFrames.ipynb', 'turicreate.yml', 'Untitled.ipynb', 'Untitled2.ipynb', 'Videos', 'VOUCHER TEST.ipynb', 'WEBINAR.ipynb']\n"
     ]
    }
   ],
   "source": [
    "import os\n",
    "\n",
    "l = os.listdir('.')"
   ]
  },
  {
   "cell_type": "code",
   "execution_count": null,
   "metadata": {},
   "outputs": [],
   "source": []
  }
 ],
 "metadata": {
  "kernelspec": {
   "display_name": "Python 3",
   "language": "python",
   "name": "python3"
  },
  "language_info": {
   "codemirror_mode": {
    "name": "ipython",
    "version": 3
   },
   "file_extension": ".py",
   "mimetype": "text/x-python",
   "name": "python",
   "nbconvert_exporter": "python",
   "pygments_lexer": "ipython3",
   "version": "3.7.4"
  }
 },
 "nbformat": 4,
 "nbformat_minor": 2
}